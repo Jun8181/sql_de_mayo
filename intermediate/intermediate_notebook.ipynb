{
 "cells": [
  {
   "cell_type": "markdown",
   "metadata": {},
   "source": [
    "# Intermediate Notebook"
   ]
  },
  {
   "cell_type": "markdown",
   "metadata": {},
   "source": [
    "Welcome back to the second half of your adventure with SQL! By now, you should be comfortable with writing simple queries and selecting attributes from a table based on certain conditions. In this section you'll be exploring SQL joins and how to merge tables in a relational database. Let's jump right into it!\n",
    "\n",
    "### What is a join?\n",
    "\n",
    "A join combines tables by matching values in their columns. There are four main types of joins: inner joins, outer joins, left joins, and right joins. We will see how each of the joins combines tables.  \n",
    "\n",
    "Start off by running the command below to connect to the Northwind Database."
   ]
  },
  {
   "cell_type": "code",
   "execution_count": 2,
   "metadata": {},
   "outputs": [],
   "source": [
    "-- connection: postgresql://localhost:5432/northwind"
   ]
  },
  {
   "cell_type": "markdown",
   "metadata": {},
   "source": [
    "### Inner Joins\n",
    "\n",
    "In an inner join, the final table only contains rows that have matching columns in both tables. An important thing to note is that for inner joins, if a row doesn't have a matching value in the other table, the row is not included in the final result.\n",
    "\n",
    "![](https://github.com/timothydnguyen/sql_de_mayo/blob/master/intermediate/img/innerjoin.png)\n",
    "\n",
    "To write an inner join we need to use the following syntax:\n",
    "\n",
    "```\n",
    "SELECT ...\n",
    "FROM <TABLE_1>\n",
    "    INNER JOIN <TABLE_2>\n",
    "    ON <...>\n",
    "```\n",
    "\n",
    "So for example, if we want to join the Orders table with the Order_Details, we need to write:"
   ]
  },
  {
   "cell_type": "code",
   "execution_count": null,
   "metadata": {},
   "outputs": [],
   "source": [
    "SELECT * \n",
    "FROM Orders AS O\n",
    "    INNER JOIN Order_Details AS OD\n",
    "    on O.orderid = OD.orderid;"
   ]
  },
  {
   "cell_type": "markdown",
   "metadata": {},
   "source": [
    "This is where aliasing comes in handy. You need to join the tables on a common attribute in both tables (in this case, the order ID). As the queries you build become more complex, it is simpler to alias the tables with a single letter whenever you reference them during joins.  \n"
   ]
  },
  {
   "cell_type": "markdown",
   "metadata": {},
   "source": [
    "### Full/Outer Join\n",
    "\n",
    "In a full join (sometimes called an outer join), all records from both tables are included in the joined table. If a row doesn't have a match in the other table, the missing values are filled in with NULL.\n",
    "\n",
    "!()[https://github.com/timothydnguyen/sql_de_mayo/blob/master/intermediate/img/outerjoin.png]\n",
    "\n",
    "As before, we join the Orders and Order Details tables together to match the order types with its details. A full join comes in handy because we want to keep all rows in either table even if there isn't a match."
   ]
  },
  {
   "cell_type": "code",
   "execution_count": null,
   "metadata": {},
   "outputs": [],
   "source": [
    "SELECT * \n",
    "FROM Orders AS O\n",
    "    FULL JOIN Order_Details AS OD\n",
    "    on O.orderid = OD.orderid;"
   ]
  },
  {
   "cell_type": "markdown",
   "metadata": {},
   "source": [
    "### Left Join\n",
    "\n",
    "n a left join, all records from the left table are included in the joined table. If a row doesn't have a match in the right table, the missing values are filled in with NULL.\n",
    "\n",
    "!()[https://github.com/timothydnguyen/sql_de_mayo/blob/master/intermediate/img/left_join.png]\n",
    "\n",
    "This time, we want to keep all the order details even if an order doesn't have a matching ID.\n",
    "To write an left join in SQL we modify our FROM clause to use the following syntax:"
   ]
  },
  {
   "cell_type": "code",
   "execution_count": null,
   "metadata": {},
   "outputs": [],
   "source": [
    "SELECT * \n",
    "FROM Orders AS O\n",
    "    LEFT JOIN Order_Details AS OD\n",
    "    on O.orderid = OD.orderid;"
   ]
  },
  {
   "cell_type": "markdown",
   "metadata": {},
   "source": [
    "### Right Join\n",
    "\n",
    "In a right join, all records from the right table are included in the joined table. If a row doesn't have a match in the right table, the missing values are filled in with NULL.\n",
    "\n",
    "!()[https://github.com/timothydnguyen/sql_de_mayo/blob/master/intermediate/img/right_join.png]\n",
    "\n",
    "How do you think a right join SQL query is written? Go ahead and try it out down below! Use the same two tables we used earlier. "
   ]
  },
  {
   "cell_type": "code",
   "execution_count": null,
   "metadata": {},
   "outputs": [],
   "source": []
  },
  {
   "cell_type": "markdown",
   "metadata": {},
   "source": [
    "You may notice that a right join produces the same result a left join with the table order swapped. That is, names left joined with colors is the same as colors right joined with names. Because of this, some SQL engines do not support right joins.\n",
    "\n",
    "\n",
    "We have covered the four main types of SQL joins: inner, full, left, and right joins. We use all four joins to combine information in separate relations, and each join differs only in how it handles non-matching rows in the input tables. "
   ]
  },
  {
   "cell_type": "markdown",
   "metadata": {},
   "source": [
    "### Implicit Inner Joins\n",
    "\n",
    "Just like there are multiple ways to solve a problem, there are typically multiple ways to accomplish the same task in SQL. Here is one other method for writing an inner join that appears in practice called an *implicit join*. Recall that we previously wrote the following to conduct an inner join:"
   ]
  },
  {
   "cell_type": "code",
   "execution_count": null,
   "metadata": {},
   "outputs": [],
   "source": [
    "SELECT * \n",
    "FROM Orders AS O\n",
    "    INNER JOIN Order_Details AS OD\n",
    "    on O.orderid = OD.orderid;"
   ]
  },
  {
   "cell_type": "markdown",
   "metadata": {},
   "source": [
    "An implicit inner join has a slightly different syntax. Notice in particular that the FROM clause uses a comma to select from two tables and that the query includes a WHERE clause to specify the join condition.\n",
    "\n",
    "\n",
    "When multiple tables are specified in the FROM clause, SQL creates a table containing every combination of rows from each table. This operation is often called a Cartesian product: each row in the first table is paired with every row in the second table. The additional WHERE clause in the implicit join filters out rows that do not have matching orderid values.\n",
    "\n",
    "For example:"
   ]
  },
  {
   "cell_type": "code",
   "execution_count": null,
   "metadata": {},
   "outputs": [],
   "source": [
    "SELECT *\n",
    "FROM Orders AS O, Order_Details AS OD\n",
    "WHERE O.orderid = OD.orderid;"
   ]
  },
  {
   "cell_type": "markdown",
   "metadata": {},
   "source": [
    "## Summary\n",
    "\n",
    "Woohoo! Give yourself a pat on the back. You've made it to the end of the UCSB SQL Workshop. We've covered a lot today, and we hope you have learned something about navigating a database with SQL.  \n",
    "\n",
    "#### What's next? \n",
    "\n",
    "Take a break and relax. You've just completed something huge. If you're itching for some more, included in this curriculum is some further practice, and applications related to SQL that you can work with.  \n",
    "\n",
    "For now, here's some problems that you can solve before we finish up the workshop. The coaches will be wrapping up at 4 pm, so sit tight! \n"
   ]
  },
  {
   "cell_type": "code",
   "execution_count": null,
   "metadata": {},
   "outputs": [],
   "source": []
  }
 ],
 "metadata": {
  "kernelspec": {
   "display_name": "PostgreSQL",
   "language": "postgresql",
   "name": "postgres"
  },
  "language_info": {
   "codemirror_mode": "sql",
   "file_extension": ".sql",
   "mimetype": "text/x-postgresql",
   "name": "PostgreSQL"
  }
 },
 "nbformat": 4,
 "nbformat_minor": 2
}
