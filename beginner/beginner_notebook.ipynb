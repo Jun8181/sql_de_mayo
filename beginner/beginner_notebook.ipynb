{
 "cells": [
  {
   "cell_type": "code",
   "execution_count": 2,
   "metadata": {},
   "outputs": [],
   "source": [
    "-- connection: postgresql://localhost:5432/northwind"
   ]
  },
  {
   "cell_type": "markdown",
   "metadata": {},
   "source": [
    "For our exercises, we will be using the Northwind Database. This database is about a company named \"Northwind Traders\" and captures all the sales transactions that occur between the company and the customers, as well as the purchase transactions between Northwind and its suppliers.\n",
    "\n",
    "The diagram shows the table structure of the Northwind database.\n",
    "\n",
    "![](img/northwind_schema.png)\n",
    "\n",
    "There are additional tables, but we will only be using the ones shown above in this tutorial.\n",
    "\n",
    "Most of the actions you need to perform on a database are down with SQL statements. The following statement selects all the records in the \"Customers\" table."
   ]
  },
  {
   "cell_type": "code",
   "execution_count": null,
   "metadata": {},
   "outputs": [],
   "source": [
    "SELECT * FROM Customers;"
   ]
  },
  {
   "cell_type": "markdown",
   "metadata": {},
   "source": [
    "SQL keywords are NOT case sensitive; select is the same as SELECT. We will write all SQL keywords in uppercase.\n",
    "\n",
    "A semicolon is the standard way to separate each SQL statement in database systems that allow more than one SQL statement to be executed in the same call to the server. In this tutorial, we will use semicolon at the end of each SQL statement.\n"
   ]
  },
  {
   "cell_type": "markdown",
   "metadata": {},
   "source": [
    "### Select Statements\n",
    "\n",
    "The SELECT statement is used to select data from a database. The data returned is stored in a result table, called the result-set.\n",
    "\n",
    "Try out the following SQL statements to see what columns you select from the \"Customers\" table."
   ]
  },
  {
   "cell_type": "code",
   "execution_count": null,
   "metadata": {},
   "outputs": [],
   "source": [
    "SELECT CompanyName, Address FROM Customers;"
   ]
  },
  {
   "cell_type": "code",
   "execution_count": null,
   "metadata": {},
   "outputs": [],
   "source": [
    "SELECT * FROM Customers;"
   ]
  },
  {
   "cell_type": "markdown",
   "metadata": {},
   "source": [
    "Inside a table, a column often contains many duplicate values; and sometimes you only want to list the different (distinct) values. The SELECT DISTINCT statement is used to return only unique values.\n",
    "\n",
    "What is the difference between the two statements below?"
   ]
  },
  {
   "cell_type": "code",
   "execution_count": null,
   "metadata": {},
   "outputs": [],
   "source": [
    "SELECT Country FROM Customers;"
   ]
  },
  {
   "cell_type": "code",
   "execution_count": null,
   "metadata": {},
   "outputs": [],
   "source": [
    "SELECT DISTINCT Country FROM Customers;"
   ]
  },
  {
   "cell_type": "markdown",
   "metadata": {},
   "source": [
    "### Where Clause\n",
    "\n",
    "The WHERE clause is used to filter records.\n",
    "\n",
    "The WHERE clause is used to extract only those records that fulfill a specified condition."
   ]
  },
  {
   "cell_type": "code",
   "execution_count": null,
   "metadata": {},
   "outputs": [],
   "source": [
    "SELECT * FROM Customers \n",
    "WHERE Country = 'Mexico';"
   ]
  },
  {
   "cell_type": "markdown",
   "metadata": {},
   "source": [
    "The following operators can be used in the WHERE clause:\n",
    "\n",
    "Operator | Description |\n",
    "--- |---|\n",
    "= | Equal |\n",
    "<> | Not equal|\n",
    "\\> | Greater than |\n",
    "< | Less than|\n",
    "\\>= |Greater than or equal|\n",
    "<= |Less than or equal|\n",
    "BETWEEN |Between an inclusive range|\n",
    "LIKE |Search for a pattern|\n",
    "IN |To specify multiple possible values for a column|\n",
    "\n",
    "\n",
    "### And/Not/Or Operators\n",
    "The WHERE clause can be combined with AND, OR, and NOT operators.\n",
    "\n",
    "The AND and OR operators are used to filter records based on more than one condition:\n",
    "\n",
    "The AND operator displays a record if all the conditions separated by AND is TRUE.\n",
    "The OR operator displays a record if any of the conditions separated by OR is TRUE.\n",
    "The NOT operator displays a record if the condition(s) is NOT TRUE."
   ]
  },
  {
   "cell_type": "code",
   "execution_count": null,
   "metadata": {},
   "outputs": [],
   "source": [
    "SELECT * FROM Customers\n",
    "WHERE Postalcode BETWEEN '05021' AND '05030';"
   ]
  },
  {
   "cell_type": "code",
   "execution_count": null,
   "metadata": {},
   "outputs": [],
   "source": [
    "SELECT companyname, contactname, country\n",
    "FROM Customers\n",
    "WHERE NOT country = 'Mexico';"
   ]
  },
  {
   "cell_type": "markdown",
   "metadata": {},
   "source": [
    "### Order By Keyword\n",
    "\n",
    "The ORDER BY keyword is used to sort the result-set in ascending or descending order.\n",
    "\n",
    "The ORDER BY keyword sorts the records in ascending order by default. To sort the records in descending order, use the DESC keyword."
   ]
  },
  {
   "cell_type": "code",
   "execution_count": null,
   "metadata": {},
   "outputs": [],
   "source": [
    "SELECT DISTINCT * FROM Customers\n",
    "ORDER BY Country ASC;"
   ]
  },
  {
   "cell_type": "code",
   "execution_count": null,
   "metadata": {},
   "outputs": [],
   "source": [
    "SELECT * FROM Customers\n",
    "ORDER BY City ASC, Country DESC;"
   ]
  },
  {
   "cell_type": "markdown",
   "metadata": {},
   "source": [
    "### Your turn to try! \n",
    "\n",
    "Select the company name, contact title, address, and region from the Customers table where the country isn't Italy. "
   ]
  },
  {
   "cell_type": "code",
   "execution_count": null,
   "metadata": {},
   "outputs": [],
   "source": []
  },
  {
   "cell_type": "markdown",
   "metadata": {},
   "source": [
    "Select all distinct columns from the Customers table where the city is Sao Paulo in ascending order by country. "
   ]
  },
  {
   "cell_type": "code",
   "execution_count": null,
   "metadata": {},
   "outputs": [],
   "source": []
  },
  {
   "cell_type": "markdown",
   "metadata": {},
   "source": [
    "Select the birthdate, address, city, and home phone from the Employees table where the city is in Seattle and the region is in Washington, ordered by postal code in descending order.\n",
    "\n",
    "**(Hint: refer to the database schema at the top of the notebook)**"
   ]
  },
  {
   "cell_type": "code",
   "execution_count": null,
   "metadata": {},
   "outputs": [],
   "source": []
  },
  {
   "cell_type": "code",
   "execution_count": null,
   "metadata": {},
   "outputs": [],
   "source": []
  }
 ],
 "metadata": {
  "kernelspec": {
   "display_name": "PostgreSQL",
   "language": "postgresql",
   "name": "postgres"
  },
  "language_info": {
   "codemirror_mode": "sql",
   "file_extension": ".sql",
   "mimetype": "text/x-postgresql",
   "name": "PostgreSQL"
  }
 },
 "nbformat": 4,
 "nbformat_minor": 2
}
